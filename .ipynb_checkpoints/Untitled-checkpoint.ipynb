{
 "cells": [
  {
   "cell_type": "code",
   "execution_count": 1,
   "id": "56ed142f-834b-4494-a35a-104a717097f3",
   "metadata": {},
   "outputs": [],
   "source": [
    "import pandas as pd\n",
    "import numpy as np"
   ]
  },
  {
   "cell_type": "code",
   "execution_count": 2,
   "id": "5255b6d8-d1df-4e13-ac11-11aa29a3ded7",
   "metadata": {},
   "outputs": [],
   "source": [
    "# Load the dataset\n",
    "df = pd.read_csv('data/orders_and_shipments.csv')"
   ]
  },
  {
   "cell_type": "code",
   "execution_count": 3,
   "id": "d4e410c5-9d36-4a5e-9b57-ea44c4af37e8",
   "metadata": {},
   "outputs": [
    {
     "name": "stdout",
     "output_type": "stream",
     "text": [
      "Number of Features: 24\n",
      "Size of the dataset: 30871\n",
      "\n"
     ]
    },
    {
     "data": {
      "text/html": [
       "<div>\n",
       "<style scoped>\n",
       "    .dataframe tbody tr th:only-of-type {\n",
       "        vertical-align: middle;\n",
       "    }\n",
       "\n",
       "    .dataframe tbody tr th {\n",
       "        vertical-align: top;\n",
       "    }\n",
       "\n",
       "    .dataframe thead th {\n",
       "        text-align: right;\n",
       "    }\n",
       "</style>\n",
       "<table border=\"1\" class=\"dataframe\">\n",
       "  <thead>\n",
       "    <tr style=\"text-align: right;\">\n",
       "      <th></th>\n",
       "      <th>Order ID</th>\n",
       "      <th>Order Item ID</th>\n",
       "      <th>Order YearMonth</th>\n",
       "      <th>Order Year</th>\n",
       "      <th>Order Month</th>\n",
       "      <th>Order Day</th>\n",
       "      <th>Order Time</th>\n",
       "      <th>Order Quantity</th>\n",
       "      <th>Product Department</th>\n",
       "      <th>Product Category</th>\n",
       "      <th>...</th>\n",
       "      <th>Customer Country</th>\n",
       "      <th>Warehouse Country</th>\n",
       "      <th>Shipment Year</th>\n",
       "      <th>Shipment Month</th>\n",
       "      <th>Shipment Day</th>\n",
       "      <th>Shipment Mode</th>\n",
       "      <th>Shipment Days - Scheduled</th>\n",
       "      <th>Gross Sales</th>\n",
       "      <th>Discount %</th>\n",
       "      <th>Profit</th>\n",
       "    </tr>\n",
       "  </thead>\n",
       "  <tbody>\n",
       "    <tr>\n",
       "      <th>0</th>\n",
       "      <td>3535</td>\n",
       "      <td>8793</td>\n",
       "      <td>201502</td>\n",
       "      <td>2015</td>\n",
       "      <td>2</td>\n",
       "      <td>21</td>\n",
       "      <td>14:07</td>\n",
       "      <td>1</td>\n",
       "      <td>Fan Shop</td>\n",
       "      <td>Fishing</td>\n",
       "      <td>...</td>\n",
       "      <td>Mexico</td>\n",
       "      <td>Puerto Rico</td>\n",
       "      <td>2015</td>\n",
       "      <td>2</td>\n",
       "      <td>27</td>\n",
       "      <td>Standard Class</td>\n",
       "      <td>4</td>\n",
       "      <td>400</td>\n",
       "      <td>0.25</td>\n",
       "      <td>200</td>\n",
       "    </tr>\n",
       "    <tr>\n",
       "      <th>1</th>\n",
       "      <td>4133</td>\n",
       "      <td>10320</td>\n",
       "      <td>201503</td>\n",
       "      <td>2015</td>\n",
       "      <td>3</td>\n",
       "      <td>2</td>\n",
       "      <td>07:37</td>\n",
       "      <td>1</td>\n",
       "      <td>Fan Shop</td>\n",
       "      <td>Fishing</td>\n",
       "      <td>...</td>\n",
       "      <td>Brazil</td>\n",
       "      <td>Puerto Rico</td>\n",
       "      <td>2015</td>\n",
       "      <td>3</td>\n",
       "      <td>6</td>\n",
       "      <td>Standard Class</td>\n",
       "      <td>4</td>\n",
       "      <td>400</td>\n",
       "      <td>0.09</td>\n",
       "      <td>200</td>\n",
       "    </tr>\n",
       "    <tr>\n",
       "      <th>2</th>\n",
       "      <td>7396</td>\n",
       "      <td>18517</td>\n",
       "      <td>201504</td>\n",
       "      <td>2015</td>\n",
       "      <td>4</td>\n",
       "      <td>18</td>\n",
       "      <td>22:47</td>\n",
       "      <td>1</td>\n",
       "      <td>Fan Shop</td>\n",
       "      <td>Fishing</td>\n",
       "      <td>...</td>\n",
       "      <td>Mexico</td>\n",
       "      <td>Puerto Rico</td>\n",
       "      <td>2015</td>\n",
       "      <td>4</td>\n",
       "      <td>20</td>\n",
       "      <td>Standard Class</td>\n",
       "      <td>4</td>\n",
       "      <td>400</td>\n",
       "      <td>0.06</td>\n",
       "      <td>200</td>\n",
       "    </tr>\n",
       "    <tr>\n",
       "      <th>3</th>\n",
       "      <td>11026</td>\n",
       "      <td>27608</td>\n",
       "      <td>201506</td>\n",
       "      <td>2015</td>\n",
       "      <td>6</td>\n",
       "      <td>10</td>\n",
       "      <td>22:32</td>\n",
       "      <td>1</td>\n",
       "      <td>Fan Shop</td>\n",
       "      <td>Fishing</td>\n",
       "      <td>...</td>\n",
       "      <td>Denmark</td>\n",
       "      <td>Puerto Rico</td>\n",
       "      <td>2015</td>\n",
       "      <td>6</td>\n",
       "      <td>12</td>\n",
       "      <td>Standard Class</td>\n",
       "      <td>4</td>\n",
       "      <td>400</td>\n",
       "      <td>0.15</td>\n",
       "      <td>200</td>\n",
       "    </tr>\n",
       "    <tr>\n",
       "      <th>4</th>\n",
       "      <td>11026</td>\n",
       "      <td>27609</td>\n",
       "      <td>201506</td>\n",
       "      <td>2015</td>\n",
       "      <td>6</td>\n",
       "      <td>10</td>\n",
       "      <td>22:32</td>\n",
       "      <td>1</td>\n",
       "      <td>Fan Shop</td>\n",
       "      <td>Fishing</td>\n",
       "      <td>...</td>\n",
       "      <td>Denmark</td>\n",
       "      <td>Puerto Rico</td>\n",
       "      <td>2015</td>\n",
       "      <td>6</td>\n",
       "      <td>12</td>\n",
       "      <td>Standard Class</td>\n",
       "      <td>4</td>\n",
       "      <td>400</td>\n",
       "      <td>0.13</td>\n",
       "      <td>200</td>\n",
       "    </tr>\n",
       "  </tbody>\n",
       "</table>\n",
       "<p>5 rows × 24 columns</p>\n",
       "</div>"
      ],
      "text/plain": [
       "   Order ID    Order Item ID    Order YearMonth    Order Year    Order Month   \\\n",
       "0       3535             8793             201502          2015              2   \n",
       "1       4133            10320             201503          2015              3   \n",
       "2       7396            18517             201504          2015              4   \n",
       "3      11026            27608             201506          2015              6   \n",
       "4      11026            27609             201506          2015              6   \n",
       "\n",
       "    Order Day  Order Time  Order Quantity Product Department Product Category  \\\n",
       "0           21      14:07               1           Fan Shop          Fishing   \n",
       "1            2      07:37               1           Fan Shop          Fishing   \n",
       "2           18      22:47               1           Fan Shop          Fishing   \n",
       "3           10      22:32               1           Fan Shop          Fishing   \n",
       "4           10      22:32               1           Fan Shop          Fishing   \n",
       "\n",
       "   ... Customer Country  Warehouse Country Shipment Year Shipment Month  \\\n",
       "0  ...           Mexico        Puerto Rico          2015              2   \n",
       "1  ...           Brazil        Puerto Rico          2015              3   \n",
       "2  ...           Mexico        Puerto Rico          2015              4   \n",
       "3  ...          Denmark        Puerto Rico          2015              6   \n",
       "4  ...          Denmark        Puerto Rico          2015              6   \n",
       "\n",
       "  Shipment Day   Shipment Mode   Shipment Days - Scheduled    Gross Sales   \\\n",
       "0           27  Standard Class                            4            400   \n",
       "1            6  Standard Class                            4            400   \n",
       "2           20  Standard Class                            4            400   \n",
       "3           12  Standard Class                            4            400   \n",
       "4           12  Standard Class                            4            400   \n",
       "\n",
       "    Discount %   Profit   \n",
       "0          0.25      200  \n",
       "1          0.09      200  \n",
       "2          0.06      200  \n",
       "3          0.15      200  \n",
       "4          0.13      200  \n",
       "\n",
       "[5 rows x 24 columns]"
      ]
     },
     "execution_count": 3,
     "metadata": {},
     "output_type": "execute_result"
    }
   ],
   "source": [
    "# Check the size and number of features\n",
    "print(f\"Number of Features: {df.shape[1]}\")\n",
    "print(f\"Size of the dataset: {df.shape[0]}\")\n",
    "print()\n",
    "\n",
    "# Have a look on dataset\n",
    "df.head()"
   ]
  },
  {
   "cell_type": "code",
   "execution_count": 4,
   "id": "d7eafedd-3922-4995-94b4-bd1c1be87550",
   "metadata": {},
   "outputs": [
    {
     "data": {
      "text/plain": [
       "Order ID                       0\n",
       " Order Item ID                 0\n",
       " Order YearMonth               0\n",
       " Order Year                    0\n",
       " Order Month                   0\n",
       " Order Day                     0\n",
       "Order Time                     0\n",
       "Order Quantity                 0\n",
       "Product Department             0\n",
       "Product Category               0\n",
       "Product Name                   0\n",
       " Customer ID                   0\n",
       "Customer Market                0\n",
       "Customer Region                0\n",
       "Customer Country               0\n",
       "Warehouse Country              0\n",
       "Shipment Year                  0\n",
       "Shipment Month                 0\n",
       "Shipment Day                   0\n",
       "Shipment Mode                  0\n",
       " Shipment Days - Scheduled     0\n",
       " Gross Sales                   0\n",
       " Discount %                    0\n",
       " Profit                        0\n",
       "dtype: int64"
      ]
     },
     "execution_count": 4,
     "metadata": {},
     "output_type": "execute_result"
    }
   ],
   "source": [
    "# Check the null values\n",
    "df.isna().sum()"
   ]
  },
  {
   "cell_type": "code",
   "execution_count": 5,
   "id": "91f53b2d-7ee1-43b1-bedb-11cdcdbc594a",
   "metadata": {},
   "outputs": [
    {
     "data": {
      "text/plain": [
       "Index(['Order ID ', ' Order Item ID ', ' Order YearMonth ', ' Order Year ',\n",
       "       ' Order Month ', ' Order Day ', 'Order Time', 'Order Quantity',\n",
       "       'Product Department', 'Product Category', 'Product Name',\n",
       "       ' Customer ID ', 'Customer Market', 'Customer Region',\n",
       "       'Customer Country', 'Warehouse Country', 'Shipment Year',\n",
       "       'Shipment Month', 'Shipment Day', 'Shipment Mode',\n",
       "       ' Shipment Days - Scheduled ', ' Gross Sales ', ' Discount % ',\n",
       "       ' Profit '],\n",
       "      dtype='object')"
      ]
     },
     "execution_count": 5,
     "metadata": {},
     "output_type": "execute_result"
    }
   ],
   "source": [
    "# Check the features (columns)\n",
    "df.columns"
   ]
  },
  {
   "cell_type": "code",
   "execution_count": 7,
   "id": "b88577e7-bc77-4c2e-aa00-6b50deccff06",
   "metadata": {},
   "outputs": [
    {
     "data": {
      "text/plain": [
       "Index(['Order ID', 'Order Item ID', 'Order YearMonth', 'Order Year',\n",
       "       'Order Month', 'Order Day', 'Order Time', 'Order Quantity',\n",
       "       'Product Department', 'Product Category', 'Product Name', 'Customer ID',\n",
       "       'Customer Market', 'Customer Region', 'Customer Country',\n",
       "       'Warehouse Country', 'Shipment Year', 'Shipment Month', 'Shipment Day',\n",
       "       'Shipment Mode', 'Shipment Days Scheduled', 'Gross Sales', 'Discount %',\n",
       "       'Profit'],\n",
       "      dtype='object')"
      ]
     },
     "execution_count": 7,
     "metadata": {},
     "output_type": "execute_result"
    }
   ],
   "source": [
    "# Remove the sapces before and after of each column name\n",
    "df.rename(columns=lambda x: x.strip(), inplace=True)\n",
    "df.rename(columns={'Shipment Days - Scheduled':'Shipment Days Scheduled'}, inplace=True)\n",
    "df.columns"
   ]
  },
  {
   "cell_type": "code",
   "execution_count": 9,
   "id": "4c29561b-e545-4047-9cbb-9a99979b687f",
   "metadata": {},
   "outputs": [
    {
     "data": {
      "text/plain": [
       "Index(['order_id', 'order_item_id', 'order_yearmonth', 'order_year',\n",
       "       'order_month', 'order_day', 'order_time', 'order_quantity',\n",
       "       'product_department', 'product_category', 'product_name', 'customer_id',\n",
       "       'customer_market', 'customer_region', 'customer_country',\n",
       "       'warehouse_country', 'shipment_year', 'shipment_month', 'shipment_day',\n",
       "       'shipment_mode', 'shipment_days_scheduled', 'gross_sales', 'discount_%',\n",
       "       'profit'],\n",
       "      dtype='object')"
      ]
     },
     "execution_count": 9,
     "metadata": {},
     "output_type": "execute_result"
    }
   ],
   "source": [
    "# Replace the remaining spaces with _\n",
    "df.columns = [col.lower().replace(' ', '_') for col in df.columns]\n",
    "df.columns"
   ]
  },
  {
   "cell_type": "code",
   "execution_count": 10,
   "id": "32e76579-34b5-4027-b2a6-e65ebf9f9dd3",
   "metadata": {},
   "outputs": [
    {
     "data": {
      "text/plain": [
       "0"
      ]
     },
     "execution_count": 10,
     "metadata": {},
     "output_type": "execute_result"
    }
   ],
   "source": [
    "# The order item should be unique, so check to see if it has duplicates\n",
    "df.order_item_id.duplicated().sum()"
   ]
  },
  {
   "cell_type": "code",
   "execution_count": 11,
   "id": "0e529ba9-6887-4810-b079-88cf45b86531",
   "metadata": {},
   "outputs": [
    {
     "data": {
      "text/html": [
       "<div>\n",
       "<style scoped>\n",
       "    .dataframe tbody tr th:only-of-type {\n",
       "        vertical-align: middle;\n",
       "    }\n",
       "\n",
       "    .dataframe tbody tr th {\n",
       "        vertical-align: top;\n",
       "    }\n",
       "\n",
       "    .dataframe thead th {\n",
       "        text-align: right;\n",
       "    }\n",
       "</style>\n",
       "<table border=\"1\" class=\"dataframe\">\n",
       "  <thead>\n",
       "    <tr style=\"text-align: right;\">\n",
       "      <th></th>\n",
       "      <th>order_yearmonth</th>\n",
       "      <th>order_year</th>\n",
       "      <th>order_month</th>\n",
       "    </tr>\n",
       "  </thead>\n",
       "  <tbody>\n",
       "    <tr>\n",
       "      <th>0</th>\n",
       "      <td>201502</td>\n",
       "      <td>2015</td>\n",
       "      <td>2</td>\n",
       "    </tr>\n",
       "    <tr>\n",
       "      <th>1</th>\n",
       "      <td>201503</td>\n",
       "      <td>2015</td>\n",
       "      <td>3</td>\n",
       "    </tr>\n",
       "    <tr>\n",
       "      <th>2</th>\n",
       "      <td>201504</td>\n",
       "      <td>2015</td>\n",
       "      <td>4</td>\n",
       "    </tr>\n",
       "    <tr>\n",
       "      <th>3</th>\n",
       "      <td>201506</td>\n",
       "      <td>2015</td>\n",
       "      <td>6</td>\n",
       "    </tr>\n",
       "    <tr>\n",
       "      <th>4</th>\n",
       "      <td>201506</td>\n",
       "      <td>2015</td>\n",
       "      <td>6</td>\n",
       "    </tr>\n",
       "    <tr>\n",
       "      <th>...</th>\n",
       "      <td>...</td>\n",
       "      <td>...</td>\n",
       "      <td>...</td>\n",
       "    </tr>\n",
       "    <tr>\n",
       "      <th>30866</th>\n",
       "      <td>201712</td>\n",
       "      <td>2017</td>\n",
       "      <td>12</td>\n",
       "    </tr>\n",
       "    <tr>\n",
       "      <th>30867</th>\n",
       "      <td>201504</td>\n",
       "      <td>2015</td>\n",
       "      <td>4</td>\n",
       "    </tr>\n",
       "    <tr>\n",
       "      <th>30868</th>\n",
       "      <td>201603</td>\n",
       "      <td>2016</td>\n",
       "      <td>3</td>\n",
       "    </tr>\n",
       "    <tr>\n",
       "      <th>30869</th>\n",
       "      <td>201707</td>\n",
       "      <td>2017</td>\n",
       "      <td>7</td>\n",
       "    </tr>\n",
       "    <tr>\n",
       "      <th>30870</th>\n",
       "      <td>201709</td>\n",
       "      <td>2017</td>\n",
       "      <td>9</td>\n",
       "    </tr>\n",
       "  </tbody>\n",
       "</table>\n",
       "<p>30871 rows × 3 columns</p>\n",
       "</div>"
      ],
      "text/plain": [
       "       order_yearmonth  order_year  order_month\n",
       "0               201502        2015            2\n",
       "1               201503        2015            3\n",
       "2               201504        2015            4\n",
       "3               201506        2015            6\n",
       "4               201506        2015            6\n",
       "...                ...         ...          ...\n",
       "30866           201712        2017           12\n",
       "30867           201504        2015            4\n",
       "30868           201603        2016            3\n",
       "30869           201707        2017            7\n",
       "30870           201709        2017            9\n",
       "\n",
       "[30871 rows x 3 columns]"
      ]
     },
     "execution_count": 11,
     "metadata": {},
     "output_type": "execute_result"
    }
   ],
   "source": [
    "# Check yearmonth with year and month columns \n",
    "condition1 = df['order_yearmonth'].astype(str).str[-2:].astype(int) == df['order_month']\n",
    "condition2 = df['order_yearmonth'].astype(str).str[:4].astype(int) == df['order_year']\n",
    "subset = ['order_yearmonth', 'order_year', 'order_month']\n",
    "df.loc[condition1 & condition2, subset]"
   ]
  },
  {
   "cell_type": "code",
   "execution_count": 12,
   "id": "f6f04143-11c9-4849-a469-9e91d7c761f0",
   "metadata": {},
   "outputs": [
    {
     "data": {
      "text/plain": [
       "product_department\n",
       "Fan Shop             11550\n",
       "Apparel               8361\n",
       "Golf                  5746\n",
       "Footwear              2544\n",
       "Outdoors              1609\n",
       "Fitness                396\n",
       "Discs Shop             264\n",
       "Technology             241\n",
       "Pet Shop                75\n",
       "Book Shop               56\n",
       "Health and Beauty       29\n",
       "Name: count, dtype: int64"
      ]
     },
     "execution_count": 12,
     "metadata": {},
     "output_type": "execute_result"
    }
   ],
   "source": [
    "df['product_department'].value_counts()"
   ]
  },
  {
   "cell_type": "code",
   "execution_count": null,
   "id": "f80ebe39-a54d-46d8-bf0a-94c74b06a579",
   "metadata": {},
   "outputs": [],
   "source": []
  }
 ],
 "metadata": {
  "kernelspec": {
   "display_name": "Python 3 (ipykernel)",
   "language": "python",
   "name": "python3"
  },
  "language_info": {
   "codemirror_mode": {
    "name": "ipython",
    "version": 3
   },
   "file_extension": ".py",
   "mimetype": "text/x-python",
   "name": "python",
   "nbconvert_exporter": "python",
   "pygments_lexer": "ipython3",
   "version": "3.11.6"
  }
 },
 "nbformat": 4,
 "nbformat_minor": 5
}
